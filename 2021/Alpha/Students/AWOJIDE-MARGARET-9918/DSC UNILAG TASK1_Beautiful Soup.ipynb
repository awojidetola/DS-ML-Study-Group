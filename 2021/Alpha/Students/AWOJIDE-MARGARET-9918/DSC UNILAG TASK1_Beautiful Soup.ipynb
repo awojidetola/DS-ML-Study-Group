{
  "nbformat": 4,
  "nbformat_minor": 0,
  "metadata": {
    "colab": {
      "name": "Unilag.ipynb",
      "provenance": [],
      "collapsed_sections": []
    },
    "kernelspec": {
      "name": "python3",
      "display_name": "Python 3"
    }
  },
  "cells": [
    {
      "cell_type": "markdown",
      "metadata": {
        "id": "2ADwMKwtsfYU"
      },
      "source": [
        "## Web Scrapping with Beautiful Soup\r\n",
        "\r\n",
        "> Indented block\r\n",
        "\r\n"
      ]
    },
    {
      "cell_type": "code",
      "metadata": {
        "id": "cjK_isShseid"
      },
      "source": [
        "import requests\r\n",
        "from bs4 import BeautifulSoup as bs\r\n",
        "import numpy as np\r\n",
        "import pandas as pd"
      ],
      "execution_count": 86,
      "outputs": []
    },
    {
      "cell_type": "markdown",
      "metadata": {
        "id": "Vbh-4vR2sczz"
      },
      "source": [
        ""
      ]
    },
    {
      "cell_type": "code",
      "metadata": {
        "id": "BYUlqHr5-Jhp"
      },
      "source": [
        "import numpy as np\r\n",
        "import requests\r\n",
        "from bs4 import BeautifulSoup as bs\r\n",
        "url='http://books.toscrape.com/'"
      ],
      "execution_count": 87,
      "outputs": []
    },
    {
      "cell_type": "code",
      "metadata": {
        "id": "Gmdof-BiXOEi"
      },
      "source": [
        "text=requests.get(url).text\r\n",
        "soup=bs(text)"
      ],
      "execution_count": 88,
      "outputs": []
    },
    {
      "cell_type": "code",
      "metadata": {
        "colab": {
          "base_uri": "https://localhost:8080/"
        },
        "id": "v2i_w-OUsxit",
        "outputId": "bf0e66b2-d4d4-47ac-d9ed-596d60c4d268"
      },
      "source": [
        "image=soup.select('img')\r\n",
        "image_link=[link['src'] for link in image]\r\n",
        "image_link"
      ],
      "execution_count": 89,
      "outputs": [
        {
          "output_type": "execute_result",
          "data": {
            "text/plain": [
              "['media/cache/2c/da/2cdad67c44b002e7ead0cc35693c0e8b.jpg',\n",
              " 'media/cache/26/0c/260c6ae16bce31c8f8c95daddd9f4a1c.jpg',\n",
              " 'media/cache/3e/ef/3eef99c9d9adef34639f510662022830.jpg',\n",
              " 'media/cache/32/51/3251cf3a3412f53f339e42cac2134093.jpg',\n",
              " 'media/cache/be/a5/bea5697f2534a2f86a3ef27b5a8c12a6.jpg',\n",
              " 'media/cache/68/33/68339b4c9bc034267e1da611ab3b34f8.jpg',\n",
              " 'media/cache/92/27/92274a95b7c251fea59a2b8a78275ab4.jpg',\n",
              " 'media/cache/3d/54/3d54940e57e662c4dd1f3ff00c78cc64.jpg',\n",
              " 'media/cache/66/88/66883b91f6804b2323c8369331cb7dd1.jpg',\n",
              " 'media/cache/58/46/5846057e28022268153beff6d352b06c.jpg',\n",
              " 'media/cache/be/f4/bef44da28c98f905a3ebec0b87be8530.jpg',\n",
              " 'media/cache/10/48/1048f63d3b5061cd2f424d20b3f9b666.jpg',\n",
              " 'media/cache/5b/88/5b88c52633f53cacf162c15f4f823153.jpg',\n",
              " 'media/cache/94/b1/94b1b8b244bce9677c2f29ccc890d4d2.jpg',\n",
              " 'media/cache/81/c4/81c4a973364e17d01f217e1188253d5e.jpg',\n",
              " 'media/cache/54/60/54607fe8945897cdcced0044103b10b6.jpg',\n",
              " 'media/cache/55/33/553310a7162dfbc2c6d19a84da0df9e1.jpg',\n",
              " 'media/cache/09/a3/09a3aef48557576e1a85ba7efea8ecb7.jpg',\n",
              " 'media/cache/0b/bc/0bbcd0a6f4bcd81ccb1049a52736406e.jpg',\n",
              " 'media/cache/27/a5/27a53d0bb95bdd88288eaf66c9230d7e.jpg']"
            ]
          },
          "metadata": {
            "tags": []
          },
          "execution_count": 89
        }
      ]
    },
    {
      "cell_type": "code",
      "metadata": {
        "colab": {
          "base_uri": "https://localhost:8080/"
        },
        "id": "9rgkF63vvJRE",
        "outputId": "4407c500-6a77-43e4-9253-c5bb4555d589"
      },
      "source": [
        "image=soup.select('img')\r\n",
        "title=[link['alt'] for link in image]\r\n",
        "title"
      ],
      "execution_count": 90,
      "outputs": [
        {
          "output_type": "execute_result",
          "data": {
            "text/plain": [
              "['A Light in the Attic',\n",
              " 'Tipping the Velvet',\n",
              " 'Soumission',\n",
              " 'Sharp Objects',\n",
              " 'Sapiens: A Brief History of Humankind',\n",
              " 'The Requiem Red',\n",
              " 'The Dirty Little Secrets of Getting Your Dream Job',\n",
              " 'The Coming Woman: A Novel Based on the Life of the Infamous Feminist, Victoria Woodhull',\n",
              " 'The Boys in the Boat: Nine Americans and Their Epic Quest for Gold at the 1936 Berlin Olympics',\n",
              " 'The Black Maria',\n",
              " 'Starving Hearts (Triangular Trade Trilogy, #1)',\n",
              " \"Shakespeare's Sonnets\",\n",
              " 'Set Me Free',\n",
              " \"Scott Pilgrim's Precious Little Life (Scott Pilgrim #1)\",\n",
              " 'Rip it Up and Start Again',\n",
              " 'Our Band Could Be Your Life: Scenes from the American Indie Underground, 1981-1991',\n",
              " 'Olio',\n",
              " 'Mesaerion: The Best Science Fiction Stories 1800-1849',\n",
              " 'Libertarianism for Beginners',\n",
              " \"It's Only the Himalayas\"]"
            ]
          },
          "metadata": {
            "tags": []
          },
          "execution_count": 90
        }
      ]
    },
    {
      "cell_type": "code",
      "metadata": {
        "colab": {
          "base_uri": "https://localhost:8080/"
        },
        "id": "HMCwdGw-gwMA",
        "outputId": "2cae0c62-6e63-42d2-8f0b-2dc40a074940"
      },
      "source": [
        "p_tags = []\r\n",
        "prices = soup.find_all('p', {'class':'price_color'})\r\n",
        "#working code\r\n",
        "for price in prices:\r\n",
        "     p_tags.append(price.text.replace('Â', ''))\r\n",
        "\r\n",
        "print(p_tags)"
      ],
      "execution_count": 91,
      "outputs": [
        {
          "output_type": "stream",
          "text": [
            "['£51.77', '£53.74', '£50.10', '£47.82', '£54.23', '£22.65', '£33.34', '£17.93', '£22.60', '£52.15', '£13.99', '£20.66', '£17.46', '£52.29', '£35.02', '£57.25', '£23.88', '£37.59', '£51.33', '£45.17']\n"
          ],
          "name": "stdout"
        }
      ]
    },
    {
      "cell_type": "code",
      "metadata": {
        "colab": {
          "base_uri": "https://localhost:8080/"
        },
        "id": "dgFaTWcZkS9s",
        "outputId": "8daa594e-7dec-44e8-c534-d7fdd70b17b9"
      },
      "source": [
        "Rating=[]\r\n",
        "for i in soup.find_all('p',attrs={'class':'star-rating'}):\r\n",
        "  new=i.get('class')\r\n",
        "  new1=' '.join(map(str,new))\r\n",
        "  Rating.append(new1.replace('star-rating',''))\r\n",
        "print (Rating)"
      ],
      "execution_count": 92,
      "outputs": [
        {
          "output_type": "stream",
          "text": [
            "[' Three', ' One', ' One', ' Four', ' Five', ' One', ' Four', ' Three', ' Four', ' One', ' Two', ' Four', ' Five', ' Five', ' Five', ' Three', ' One', ' One', ' Two', ' Two']\n"
          ],
          "name": "stdout"
        }
      ]
    },
    {
      "cell_type": "code",
      "metadata": {
        "colab": {
          "base_uri": "https://localhost:8080/",
          "height": 235
        },
        "id": "SHw5wy9XjSJ4",
        "outputId": "e32fcd06-160f-41b0-b246-d01ac4508129"
      },
      "source": [
        "new=pd.DataFrame((list(zip(title,image_link,p_tags,Rating))),columns=['Title','Image_Link','Price','Star Rating'])\r\n",
        "Books_to_Scrape=new.set_index('Title')\r\n",
        "Books_to_Scrape.head()"
      ],
      "execution_count": 93,
      "outputs": [
        {
          "output_type": "execute_result",
          "data": {
            "text/html": [
              "<div>\n",
              "<style scoped>\n",
              "    .dataframe tbody tr th:only-of-type {\n",
              "        vertical-align: middle;\n",
              "    }\n",
              "\n",
              "    .dataframe tbody tr th {\n",
              "        vertical-align: top;\n",
              "    }\n",
              "\n",
              "    .dataframe thead th {\n",
              "        text-align: right;\n",
              "    }\n",
              "</style>\n",
              "<table border=\"1\" class=\"dataframe\">\n",
              "  <thead>\n",
              "    <tr style=\"text-align: right;\">\n",
              "      <th></th>\n",
              "      <th>Image_Link</th>\n",
              "      <th>Price</th>\n",
              "      <th>Star Rating</th>\n",
              "    </tr>\n",
              "    <tr>\n",
              "      <th>Title</th>\n",
              "      <th></th>\n",
              "      <th></th>\n",
              "      <th></th>\n",
              "    </tr>\n",
              "  </thead>\n",
              "  <tbody>\n",
              "    <tr>\n",
              "      <th>A Light in the Attic</th>\n",
              "      <td>media/cache/2c/da/2cdad67c44b002e7ead0cc35693c...</td>\n",
              "      <td>£51.77</td>\n",
              "      <td>Three</td>\n",
              "    </tr>\n",
              "    <tr>\n",
              "      <th>Tipping the Velvet</th>\n",
              "      <td>media/cache/26/0c/260c6ae16bce31c8f8c95daddd9f...</td>\n",
              "      <td>£53.74</td>\n",
              "      <td>One</td>\n",
              "    </tr>\n",
              "    <tr>\n",
              "      <th>Soumission</th>\n",
              "      <td>media/cache/3e/ef/3eef99c9d9adef34639f51066202...</td>\n",
              "      <td>£50.10</td>\n",
              "      <td>One</td>\n",
              "    </tr>\n",
              "    <tr>\n",
              "      <th>Sharp Objects</th>\n",
              "      <td>media/cache/32/51/3251cf3a3412f53f339e42cac213...</td>\n",
              "      <td>£47.82</td>\n",
              "      <td>Four</td>\n",
              "    </tr>\n",
              "    <tr>\n",
              "      <th>Sapiens: A Brief History of Humankind</th>\n",
              "      <td>media/cache/be/a5/bea5697f2534a2f86a3ef27b5a8c...</td>\n",
              "      <td>£54.23</td>\n",
              "      <td>Five</td>\n",
              "    </tr>\n",
              "  </tbody>\n",
              "</table>\n",
              "</div>"
            ],
            "text/plain": [
              "                                                                              Image_Link  ... Star Rating\n",
              "Title                                                                                     ...            \n",
              "A Light in the Attic                   media/cache/2c/da/2cdad67c44b002e7ead0cc35693c...  ...       Three\n",
              "Tipping the Velvet                     media/cache/26/0c/260c6ae16bce31c8f8c95daddd9f...  ...         One\n",
              "Soumission                             media/cache/3e/ef/3eef99c9d9adef34639f51066202...  ...         One\n",
              "Sharp Objects                          media/cache/32/51/3251cf3a3412f53f339e42cac213...  ...        Four\n",
              "Sapiens: A Brief History of Humankind  media/cache/be/a5/bea5697f2534a2f86a3ef27b5a8c...  ...        Five\n",
              "\n",
              "[5 rows x 3 columns]"
            ]
          },
          "metadata": {
            "tags": []
          },
          "execution_count": 93
        }
      ]
    },
    {
      "cell_type": "code",
      "metadata": {
        "id": "oNQ7TbfWkU6I"
      },
      "source": [
        ""
      ],
      "execution_count": 21,
      "outputs": []
    }
  ]
}
